{
  "nbformat": 4,
  "nbformat_minor": 0,
  "metadata": {
    "colab": {
      "provenance": [],
      "authorship_tag": "ABX9TyOrEUWd9Mb8EZ9iIbNxMSea",
      "include_colab_link": true
    },
    "kernelspec": {
      "name": "python3",
      "display_name": "Python 3"
    },
    "language_info": {
      "name": "python"
    }
  },
  "cells": [
    {
      "cell_type": "markdown",
      "metadata": {
        "id": "view-in-github",
        "colab_type": "text"
      },
      "source": [
        "<a href=\"https://colab.research.google.com/github/vallirajasekar/Airline_Sentiment/blob/main/Python_Script_2.ipynb\" target=\"_parent\"><img src=\"https://colab.research.google.com/assets/colab-badge.svg\" alt=\"Open In Colab\"/></a>"
      ]
    },
    {
      "cell_type": "code",
      "execution_count": 2,
      "metadata": {
        "id": "CkNqJ3sTaDiu"
      },
      "outputs": [],
      "source": [
        "#pip install azureml-sdk"
      ]
    },
    {
      "cell_type": "code",
      "source": [
        "from azureml.core import Workspace,Datastore,Dataset,Experiment,Run"
      ],
      "metadata": {
        "id": "1oCAkvRzavkv"
      },
      "execution_count": 3,
      "outputs": []
    },
    {
      "cell_type": "code",
      "source": [
        "ws=Workspace.from_config(path='/content/config (1).json')"
      ],
      "metadata": {
        "colab": {
          "base_uri": "https://localhost:8080/"
        },
        "id": "SRcf37GPbJCI",
        "outputId": "66c6fd2e-2ef4-46a7-e719-ff74a7c14ab4"
      },
      "execution_count": 4,
      "outputs": [
        {
          "output_type": "stream",
          "name": "stdout",
          "text": [
            "Performing interactive authentication. Please follow the instructions on the terminal.\n"
          ]
        },
        {
          "output_type": "stream",
          "name": "stderr",
          "text": [
            "WARNING:azureml._vendor.azure_cli_core.auth.identity:To sign in, use a web browser to open the page https://microsoft.com/devicelogin and enter the code EF7W52WVD to authenticate.\n"
          ]
        },
        {
          "output_type": "stream",
          "name": "stdout",
          "text": [
            "Interactive authentication successfully completed.\n"
          ]
        }
      ]
    },
    {
      "cell_type": "code",
      "source": [
        "az_dstore=Datastore.get(workspace=ws,datastore_name='azureml_sdk_blob')"
      ],
      "metadata": {
        "id": "AmewpPSJbSPs"
      },
      "execution_count": 5,
      "outputs": []
    },
    {
      "cell_type": "code",
      "source": [
        "az_default_dstore=ws.get_default_datastore()"
      ],
      "metadata": {
        "id": "64gdYaOIbkAd"
      },
      "execution_count": 6,
      "outputs": []
    },
    {
      "cell_type": "code",
      "source": [
        "churn_dataset=Dataset.get_by_name(workspace=ws,name='Churn_Modelling Data SDK')"
      ],
      "metadata": {
        "id": "2vije2B5bxHO"
      },
      "execution_count": 7,
      "outputs": []
    },
    {
      "cell_type": "code",
      "source": [
        "#Getting the Contest of Experiment\n",
        "new_run=Run.get_context()"
      ],
      "metadata": {
        "id": "97z-sPZWcjdX"
      },
      "execution_count": null,
      "outputs": []
    },
    {
      "cell_type": "code",
      "source": [
        "df=churn_dataset.to_pandas_dataframe()"
      ],
      "metadata": {
        "colab": {
          "base_uri": "https://localhost:8080/"
        },
        "id": "5QDsWA-9dRti",
        "outputId": "2e74f615-282c-454d-b2c8-b78dd6398664"
      },
      "execution_count": 8,
      "outputs": [
        {
          "output_type": "stream",
          "name": "stdout",
          "text": [
            "{'infer_column_types': 'False', 'activity': 'to_pandas_dataframe'}\n",
            "{'infer_column_types': 'False', 'activity': 'to_pandas_dataframe', 'activityApp': 'TabularDataset'}\n"
          ]
        }
      ]
    },
    {
      "cell_type": "code",
      "source": [
        "df.columns"
      ],
      "metadata": {
        "colab": {
          "base_uri": "https://localhost:8080/"
        },
        "id": "I4l706Nvp3cf",
        "outputId": "86b03420-e46c-4b5b-d51d-84abdafa5bc1"
      },
      "execution_count": 11,
      "outputs": [
        {
          "output_type": "execute_result",
          "data": {
            "text/plain": [
              "Index(['RowNumber', 'CustomerId', 'Surname', 'CreditScore', 'Geography',\n",
              "       'Gender', 'Age', 'Tenure', 'Balance', 'NumOfProducts', 'HasCrCard',\n",
              "       'IsActiveMember', 'EstimatedSalary', 'Exited'],\n",
              "      dtype='object')"
            ]
          },
          "metadata": {},
          "execution_count": 11
        }
      ]
    },
    {
      "cell_type": "code",
      "source": [
        "shape=df.shape"
      ],
      "metadata": {
        "id": "iRqd7ftOdhyi"
      },
      "execution_count": 9,
      "outputs": []
    },
    {
      "cell_type": "code",
      "source": [
        "total_observation=len(df)"
      ],
      "metadata": {
        "id": "NNrSa0X0dodg"
      },
      "execution_count": 10,
      "outputs": []
    },
    {
      "cell_type": "code",
      "source": [
        "df_2=df[['CreditScore','Geography','Gender','Age']]"
      ],
      "metadata": {
        "id": "qrs-4QYYpxdJ"
      },
      "execution_count": 12,
      "outputs": []
    },
    {
      "cell_type": "code",
      "source": [
        "import os"
      ],
      "metadata": {
        "id": "0bib-9g8qwia"
      },
      "execution_count": 16,
      "outputs": []
    },
    {
      "cell_type": "code",
      "source": [
        "output_dir = './outputs'\n",
        "os.makedirs(output_dir, exist_ok=True)\n",
        "\n",
        "# Save the DataFrame to CSV\n",
        "df_2.to_csv(path_or_buf='./outputs/churn_partial.csv', index=False)\n"
      ],
      "metadata": {
        "id": "T5EDREcuqpAl"
      },
      "execution_count": 17,
      "outputs": []
    },
    {
      "cell_type": "code",
      "source": [],
      "metadata": {
        "id": "28tyMv_opxhC"
      },
      "execution_count": null,
      "outputs": []
    },
    {
      "cell_type": "code",
      "source": [
        "new_run.log('Shape',value=shape)\n",
        "new_run.log('total_observation',value=total_observation)\n"
      ],
      "metadata": {
        "id": "uwlog-8UdtNJ"
      },
      "execution_count": null,
      "outputs": []
    },
    {
      "cell_type": "code",
      "source": [
        "new_run.complete()"
      ],
      "metadata": {
        "id": "BvNEZjEVd7Wn"
      },
      "execution_count": null,
      "outputs": []
    }
  ]
}